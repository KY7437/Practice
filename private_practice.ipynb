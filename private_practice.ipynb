{
  "nbformat": 4,
  "nbformat_minor": 0,
  "metadata": {
    "colab": {
      "provenance": [],
      "authorship_tag": "ABX9TyMp5c/6pURcZt6sQPNCFUOh",
      "include_colab_link": true
    },
    "kernelspec": {
      "name": "python3",
      "display_name": "Python 3"
    },
    "language_info": {
      "name": "python"
    }
  },
  "cells": [
    {
      "cell_type": "markdown",
      "metadata": {
        "id": "view-in-github",
        "colab_type": "text"
      },
      "source": [
        "<a href=\"https://colab.research.google.com/github/KY7437/Practice/blob/main/private_practice.ipynb\" target=\"_parent\"><img src=\"https://colab.research.google.com/assets/colab-badge.svg\" alt=\"Open In Colab\"/></a>"
      ]
    },
    {
      "cell_type": "markdown",
      "source": [
        "BMI"
      ],
      "metadata": {
        "id": "GvUXcbd5Aiyc"
      }
    },
    {
      "cell_type": "code",
      "source": [
        "Weight = int(input(\"enter your weight in Kg: \"))\n",
        "Height = int(input(\"enter your height in cm: \"))\n",
        "\n",
        "HeightM = Height/100\n",
        "HeightM2 = HeightM**2\n",
        "\n",
        "BMI = Weight / HeightM2\n",
        "\n",
        "print(\"Your BMI is:\", BMI)"
      ],
      "metadata": {
        "colab": {
          "base_uri": "https://localhost:8080/"
        },
        "id": "Sfz6S-UhAnw5",
        "outputId": "72cb7295-45fa-4d38-af0d-cb8f43cacb3c"
      },
      "execution_count": 24,
      "outputs": [
        {
          "output_type": "stream",
          "name": "stdout",
          "text": [
            "enter your weight in Kg: 64\n",
            "enter your height in cm: 164\n",
            "Your BMI is: 23.795359904818564\n"
          ]
        }
      ]
    },
    {
      "cell_type": "markdown",
      "source": [
        "Celcious Dgrees to F"
      ],
      "metadata": {
        "id": "jFNKBA6qFxiC"
      }
    },
    {
      "cell_type": "code",
      "source": [
        "Celcious = int(input(\"Temperture in Celcious Degree: \"))\n",
        "Fahrenheit = Celcious * 1.8+32\n",
        "\n",
        "print(Fahrenheit, \"F\")"
      ],
      "metadata": {
        "colab": {
          "base_uri": "https://localhost:8080/"
        },
        "id": "7kkij9cmF3gB",
        "outputId": "a817ddf5-d2e0-48fb-d78b-d2ea2b672eda"
      },
      "execution_count": 31,
      "outputs": [
        {
          "output_type": "stream",
          "name": "stdout",
          "text": [
            "Temperture in Celcious Degree: 22\n",
            "71.6 F\n"
          ]
        }
      ]
    }
  ]
}