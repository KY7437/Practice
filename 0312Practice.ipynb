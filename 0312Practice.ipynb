{
  "nbformat": 4,
  "nbformat_minor": 0,
  "metadata": {
    "colab": {
      "provenance": [],
      "authorship_tag": "ABX9TyNMYNc6vTgAUXZevw4PU509",
      "include_colab_link": true
    },
    "kernelspec": {
      "name": "python3",
      "display_name": "Python 3"
    },
    "language_info": {
      "name": "python"
    }
  },
  "cells": [
    {
      "cell_type": "markdown",
      "metadata": {
        "id": "view-in-github",
        "colab_type": "text"
      },
      "source": [
        "<a href=\"https://colab.research.google.com/github/KY7437/Practice/blob/main/0312Practice.ipynb\" target=\"_parent\"><img src=\"https://colab.research.google.com/assets/colab-badge.svg\" alt=\"Open In Colab\"/></a>"
      ]
    },
    {
      "cell_type": "code",
      "execution_count": 4,
      "metadata": {
        "colab": {
          "base_uri": "https://localhost:8080/"
        },
        "id": "2cwKy0k71kDx",
        "outputId": "2c3fcf51-bc8a-423a-aad4-e35077b409e6"
      },
      "outputs": [
        {
          "output_type": "stream",
          "name": "stdout",
          "text": [
            "Hello\n"
          ]
        }
      ],
      "source": [
        "# My first python function; print()\n",
        "\n",
        "print('Hello')"
      ]
    },
    {
      "cell_type": "markdown",
      "source": [
        "# Lesson 3.1 Comment and code cells\n",
        "\n",
        "by KY7427"
      ],
      "metadata": {
        "id": "mPhsU-uu2CvF"
      }
    },
    {
      "cell_type": "code",
      "source": [
        "# This is a comment line <= This is a comment line\n",
        "# Comments can be more than one line\n",
        "\n",
        "print(\"Hello, Python!\") # This is a code line\n",
        "print('This is the output') # Comment can also be written this way."
      ],
      "metadata": {
        "colab": {
          "base_uri": "https://localhost:8080/"
        },
        "id": "GFnv2q3J4Rj8",
        "outputId": "3a1a0638-e18b-4f20-89a9-db3ba8ff750c"
      },
      "execution_count": 5,
      "outputs": [
        {
          "output_type": "stream",
          "name": "stdout",
          "text": [
            "Hello, Python!\n",
            "This is the output\n"
          ]
        }
      ]
    },
    {
      "cell_type": "markdown",
      "source": [
        "## 3.2 Input and out"
      ],
      "metadata": {
        "id": "gbVKnObK4bqO"
      }
    },
    {
      "cell_type": "code",
      "source": [
        "import requests\n",
        "\n",
        "# Link to your raw text file\n",
        "url = \"https://raw.githubusercontent.com/MK316/Coding4ET/main/data/sample.txt\"\n",
        "\n",
        "# Reading the file content\n",
        "mydata = requests.get(url)\n",
        "content = mydata.text\n",
        "\n",
        "# Displaying the content\n",
        "print(content)"
      ],
      "metadata": {
        "colab": {
          "base_uri": "https://localhost:8080/"
        },
        "id": "-XkjAWfa4j_z",
        "outputId": "96a56056-cd4a-4925-b01f-3767b0e10c3a"
      },
      "execution_count": 6,
      "outputs": [
        {
          "output_type": "stream",
          "name": "stdout",
          "text": [
            "A Fox one day spied a beautiful bunch of ripe grapes hanging from a vine trained along the branches of a tree. The grapes seemed ready to burst with juice, and the Fox's mouth watered as he gazed longingly at them.\n",
            "\n",
            "The bunch hung from a high branch, and the Fox had to jump for it. The first time he jumped he missed it by a long way. So he walked off a short distance and took a running leap at it, only to fall short once more. Again and again he tried, but in vain.\n",
            "\n",
            "Now he sat down and looked at the grapes in disgust.\n",
            "\n"
          ]
        }
      ]
    },
    {
      "cell_type": "code",
      "source": [
        "from IPython.display import Image, display\n",
        "\n",
        "# URL of your image on GitHub (raw link)\n",
        "url = \"https://raw.githubusercontent.com/MK316/Coding4ET/main/images/logo.png\"\n",
        "\n",
        "# Display the image directly from the URL\n",
        "display(Image(url=url))\n"
      ],
      "metadata": {
        "colab": {
          "base_uri": "https://localhost:8080/",
          "height": 343
        },
        "id": "UhXwhvLN9kSz",
        "outputId": "7e62f375-9468-480f-b21e-f2729708c1ae"
      },
      "execution_count": 7,
      "outputs": [
        {
          "output_type": "display_data",
          "data": {
            "text/html": [
              "<img src=\"https://raw.githubusercontent.com/MK316/Coding4ET/main/images/logo.png\"/>"
            ],
            "text/plain": [
              "<IPython.core.display.Image object>"
            ]
          },
          "metadata": {}
        }
      ]
    },
    {
      "cell_type": "markdown",
      "source": [
        "## 3.3 Variables"
      ],
      "metadata": {
        "id": "IN1-D-cf_9Dz"
      }
    },
    {
      "cell_type": "code",
      "source": [
        "x = 5\n",
        "y = \"Hello, World!\"\n",
        "\n",
        "print(x)\n",
        "print(y)"
      ],
      "metadata": {
        "colab": {
          "base_uri": "https://localhost:8080/"
        },
        "id": "0K9ZirbYACT3",
        "outputId": "14fc76e7-2c76-4496-8cb4-e2001575b5b5"
      },
      "execution_count": 8,
      "outputs": [
        {
          "output_type": "stream",
          "name": "stdout",
          "text": [
            "5\n",
            "Hello, World!\n"
          ]
        }
      ]
    },
    {
      "cell_type": "code",
      "source": [
        "a = 5\n",
        "b = \"120\"\n",
        "c = a * b\n",
        "d = '--------'\n",
        "\n",
        "print(c)\n",
        "print( a * d )\n",
        "print('I see.')"
      ],
      "metadata": {
        "colab": {
          "base_uri": "https://localhost:8080/"
        },
        "id": "jdI5rya7B-Hi",
        "outputId": "be4fa3dd-eba0-41c2-f47f-ba33bb41354a"
      },
      "execution_count": 27,
      "outputs": [
        {
          "output_type": "stream",
          "name": "stdout",
          "text": [
            "120120120120120\n",
            "----------------------------------------\n",
            "I see.\n"
          ]
        }
      ]
    },
    {
      "cell_type": "code",
      "source": [
        "# Cell 1: Creating Variables\n",
        "name = \"John Doe\"\n",
        "age = 30\n",
        "height = 5.9\n",
        "is_student = False"
      ],
      "metadata": {
        "id": "qPVo-6ySFPd-"
      },
      "execution_count": 28,
      "outputs": []
    },
    {
      "cell_type": "code",
      "source": [
        "# Cell 2: Working with Variables\n",
        "print(f\"Name: {name}\")\n",
        "print(f\"Age: {age}\")\n",
        "print(f\"Height: {height} feet\")\n",
        "print(f\"Is a student: {is_student}\")"
      ],
      "metadata": {
        "colab": {
          "base_uri": "https://localhost:8080/"
        },
        "id": "-eSZjYRuFfC0",
        "outputId": "4555085a-6159-4584-f5c1-95177c30afa8"
      },
      "execution_count": 31,
      "outputs": [
        {
          "output_type": "stream",
          "name": "stdout",
          "text": [
            "Name: John Doe\n",
            "Age: 31\n",
            "Height: 5.9 feet\n",
            "Is a student: False\n"
          ]
        }
      ]
    },
    {
      "cell_type": "code",
      "source": [
        "# Cell 3: Changing Variable Value\n",
        "age = 31      # Note that the value '30' was assigned to the variable 'age' in the Cell 2\n",
        "print(f\"Updated Age: {age}\")"
      ],
      "metadata": {
        "colab": {
          "base_uri": "https://localhost:8080/"
        },
        "id": "uQkYAx5EGI2T",
        "outputId": "dea98309-d81e-4906-b939-9cca919ffc14"
      },
      "execution_count": 30,
      "outputs": [
        {
          "output_type": "stream",
          "name": "stdout",
          "text": [
            "Updated Age: 31\n"
          ]
        }
      ]
    }
  ]
}